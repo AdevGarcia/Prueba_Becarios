{
 "cells": [
  {
   "cell_type": "markdown",
   "metadata": {},
   "source": [
    "# Prueba Entrevista IDOM"
   ]
  },
  {
   "cell_type": "markdown",
   "metadata": {},
   "source": [
    "## 1º Algoritmia"
   ]
  },
  {
   "cell_type": "markdown",
   "metadata": {},
   "source": [
    "El ordenamiento de burbuja (Bubble Sort) es un sencillo algoritmo de ordenamiento. Funciona revisando cada elemento de la lista que va a ser ordenada con el siguiente, intercambiándolos de posición si están en el orden equivocado. Es necesario revisar varias veces toda la lista hasta que no se necesiten más intercambios, lo que significa que la lista está ordenada.\n",
    "\n",
    " \n",
    "\n",
    "**Ejemplo:**\n",
    "\n",
    "Tomemos como ejemplo los números: “9 6 5 8 2 1”, que serán ordenados de menor a mayor valor usando el método burbuja. Los elementos siguientes están siendo comparados.\n",
    "\n",
    " \n",
    "\n",
    "**Primera vuelta:**\n",
    "\n",
    "(**9 6** 5 8 2 1) -> (**6 9** 5 8 2 1), el algoritmo compara los primeros dos elementos y los cambia porque 9 > 6\n",
    "\n",
    "(6 **9 5** 8 2 1) -> (6 **5 9** 8 2 1) \n",
    "\n",
    "(6 5 **9 8** 2 1) -> (6 5 **8 9** 2 1) \n",
    "\n",
    "(6 5 8 **9 2** 1) -> (6 5 8 **2 9** 1)\n",
    "\n",
    "(6 5 8 2 **9 1**) -> (6 5 8 2 **1 9**)\n",
    "\n",
    "**Segunda vuelta:** \n",
    "\n",
    "(**6 5** 8 2 1 9) -> **(5 6** 8 2 1 9)\n",
    "\n",
    "(5 **6 8** 2 1 9) -> (5 **6 8** 2 1 9), como estos elementos ya están en orden, el algoritmo no hace cambios. \n",
    "\n",
    "(5 6 **8 2** 1 9) -> (5 6 **2 8** 1 9) \n",
    "\n",
    "(5 6 2 **8 1** 9) -> (5 6 2 **1 8** 9) \n",
    "\n",
    "(5 6 2 1 **8 9**) -> (5 6 2 1 **8 9**)\n",
    "\n",
    "**Tercera vuelta:** \n",
    "\n",
    "(**5 6** 2 1 8 9) -> (**5 6** 2 1 8 9)\n",
    "\n",
    "(5 **6 2** 1 8 9) -> (5 **2 6** 1 8 9) \n",
    "\n",
    "(5 2 **6 1** 8 9) -> (5 2 **1 6** 8 9)\n",
    "\n",
    "(5 2 1 **6 8** 9) -> (5 2 1 **6 8** 9)\n",
    "\n",
    "(5 2 1 6 **8 9**) -> (5 2 1 6 **8 9**)\n",
    "\n",
    "**Cuarta vuelta:**\n",
    "\n",
    "(**5 2** 1 6 8 9) -> (**2 5** 1 6 8 9)\n",
    "\n",
    "(2 **5 1** 6 8 9) -> (2 **1 5** 6 8 9) \n",
    "\n",
    "(2 1 **5 6** 8 9) -> (2 1 **5 6** 8 9)\n",
    "\n",
    "(2 1 5 **6 8** 9) -> (2 1 5 **6 8** 9) \n",
    "\n",
    "(2 1 5 6 **8 9**) -> (2 1 5 6 **8 9**)\n",
    "\n",
    "**Quinta vuelta:**\n",
    "\n",
    "(**2 1** 5 6 8 9) -> (**1 2** 5 6 8 9) \n",
    "\n",
    "(1 **2 5** 6 8 9) -> (1 **2 5** 6 8 9)\n",
    "\n",
    "(1 2 **5 6** 8 9) -> (1 2 **5 6** 8 9)\n",
    "\n",
    "(1 2 5 **6 8** 9) -> (1 2 5 **6 8** 9) \n",
    "\n",
    "(1 2 5 6 **8 9**) -> (1 2 5 6 **8 9**)"
   ]
  },
  {
   "cell_type": "markdown",
   "metadata": {},
   "source": [
    "### **Ejercicio:**\n",
    "\n",
    "Codifique en Python una función que tome una lista de números enteros, que puede estar desordenada o no,  \n",
    "y reordene los números de la lista de menos a mayor, como se ha visto en el ejemplo anterior utilizando el algoritmo Bubble Sort."
   ]
  },
  {
   "cell_type": "markdown",
   "metadata": {},
   "source": [
    "```\n",
    "l1 = [1, 2, 3, -4, 5, 6, 7, 8, 9]\n",
    "l2 = [5, 3, 6, 2, 1, 4, 8, 7, 9]\n",
    "\n",
    "bubbleSort( l1 )\n",
    "print(l1)\n",
    ">> [-4, 1, 2, 3, 5, 6, 7, 8, 9]\n",
    "\n",
    "bubbleSort( l2 )\n",
    "print(l2)\n",
    ">> [1, 2, 3, 4, 5, 6, 7, 8, 9]\n",
    "```"
   ]
  },
  {
   "cell_type": "code",
   "execution_count": null,
   "metadata": {},
   "outputs": [],
   "source": []
  },
  {
   "cell_type": "code",
   "execution_count": null,
   "metadata": {},
   "outputs": [],
   "source": []
  },
  {
   "cell_type": "markdown",
   "metadata": {},
   "source": [
    "## 2º Fuentes de información"
   ]
  },
  {
   "cell_type": "markdown",
   "metadata": {},
   "source": [
    "Actualmente Internet es una gran fuente de información, ya sea a través de buscadores,  \n",
    "portales Open Data, bases de datos o plataformas web. Para cada caso existen múltiples formas de obtener dicha información de interés.\n",
    "\n",
    "Ejemplo de ello es el portal Open Data Euskadi (https://www.opendata.euskadi.eus) en el cual  \n",
    "podemos descargarnos información relacionada con urbanismo, economía o medio ambiente entre otros en múltiples formatos: xlsx, json, csv."
   ]
  },
  {
   "cell_type": "markdown",
   "metadata": {},
   "source": [
    "**Ejercicio:**\n",
    "\n",
    "a. Obtener el archivo de la calidad del aire diario del municipio de Barakaldo del año 2012 en formato csv."
   ]
  },
  {
   "cell_type": "markdown",
   "metadata": {},
   "source": [
    "b. Indicar los diferentes sensores con los que cuenta el municipio de Barakaldo ese mismo año"
   ]
  },
  {
   "cell_type": "code",
   "execution_count": null,
   "metadata": {},
   "outputs": [],
   "source": []
  },
  {
   "cell_type": "markdown",
   "metadata": {},
   "source": [
    "c. Indicar el número de días que no se realizaron lecturas para cada uno de los sensores."
   ]
  },
  {
   "cell_type": "code",
   "execution_count": null,
   "metadata": {},
   "outputs": [],
   "source": []
  },
  {
   "cell_type": "markdown",
   "metadata": {},
   "source": [
    "## 3º Procesamiento de la información"
   ]
  },
  {
   "cell_type": "markdown",
   "metadata": {},
   "source": [
    "Una vez obtenida la información el siguiente paso es limpiar y analizar los datos obtenidos.\n",
    "\n",
    "Como habrás podido observar en el archivo csv anterior, nos encontramos con valores erróneos o en blanco (NaN),  \n",
    "valores repetidos o en formato incorrecto."
   ]
  },
  {
   "cell_type": "markdown",
   "metadata": {},
   "source": [
    "**Ejercicio:**\n",
    "\n",
    "Por medio de la librería Pandas:\n",
    "\n",
    "a. Abrir el archivo (data/MAZARREDO.csv) para obtener un dataframe (df) cuyo index corresponda a la columna Date.\n",
    "\n",
    "![dataframe](img\\dataframe.PNG)"
   ]
  },
  {
   "cell_type": "code",
   "execution_count": null,
   "metadata": {},
   "outputs": [],
   "source": []
  },
  {
   "cell_type": "markdown",
   "metadata": {},
   "source": [
    "b. Dicho dataframe debe cumplir que al ejecutar df.info() retorne una salida igual a la mostrada en la imagen.\n",
    "\n",
    "![info](img\\info.PNG)\n",
    "\n"
   ]
  },
  {
   "cell_type": "code",
   "execution_count": null,
   "metadata": {},
   "outputs": [],
   "source": []
  },
  {
   "cell_type": "markdown",
   "metadata": {},
   "source": [
    "c. Limpiar, eliminar todas las filas que contengan valores NaN."
   ]
  },
  {
   "cell_type": "code",
   "execution_count": null,
   "metadata": {},
   "outputs": [],
   "source": []
  },
  {
   "cell_type": "markdown",
   "metadata": {},
   "source": [
    "d. Obtener los valores máximos, mínimos, media y desviación estandar de cada uno de los sensores."
   ]
  },
  {
   "cell_type": "code",
   "execution_count": null,
   "metadata": {},
   "outputs": [],
   "source": []
  },
  {
   "cell_type": "markdown",
   "metadata": {},
   "source": [
    "e. Plotear, mostrar por pantalla el histograma del contaminante 'NO2'. El resultado debe ser similar a la imagen siguiente:\n",
    "\n",
    "![histograma](img\\histograma.PNG)\n",
    "\n"
   ]
  },
  {
   "cell_type": "code",
   "execution_count": null,
   "metadata": {},
   "outputs": [],
   "source": []
  },
  {
   "cell_type": "markdown",
   "metadata": {},
   "source": [
    "## 4º Regresión lineal"
   ]
  },
  {
   "cell_type": "markdown",
   "metadata": {},
   "source": [
    "A continuación, vamos a plotear los datos de CO y CO 8h.\n",
    "\n",
    "```\n",
    "df['CO'].plot(figsize=(10,5))\n",
    "df['CO 8h'].plot();\n",
    "```\n",
    "\n",
    "![Plot](img\\plot.png)"
   ]
  },
  {
   "cell_type": "code",
   "execution_count": null,
   "metadata": {},
   "outputs": [],
   "source": []
  },
  {
   "cell_type": "markdown",
   "metadata": {},
   "source": [
    "Como podemos observar son muy similares. Y en efecto así tienen que ser ya que CO 8h son las medias de CO cada 8h.  \n",
    "Aun así vamos a calcular el valor de R<sup>2</sup> de estas dos variables para ver su similitud."
   ]
  },
  {
   "cell_type": "markdown",
   "metadata": {},
   "source": [
    "**Ejercicio:**  \n",
    "\n",
    "Por medio de la librería statsmodels:\n",
    "\n",
    "a. Obtener el valor de R-squared de las variables CO vs CO 8h."
   ]
  },
  {
   "cell_type": "code",
   "execution_count": null,
   "metadata": {},
   "outputs": [],
   "source": []
  },
  {
   "cell_type": "markdown",
   "metadata": {},
   "source": [
    "b. Obtener la ecuación de la recta."
   ]
  },
  {
   "cell_type": "code",
   "execution_count": null,
   "metadata": {},
   "outputs": [],
   "source": []
  },
  {
   "cell_type": "markdown",
   "metadata": {},
   "source": [
    "c. Dibuja una gráfica para comparar la relación con las predicciones de OLS junto a los intervalos de confianza en torno a las predicciones.  \n",
    "\n",
    "De tal forma que se obtenga algo similar a esta:\n",
    "\n",
    "![Regression](img\\regresion.png)\n",
    "\n"
   ]
  },
  {
   "cell_type": "code",
   "execution_count": null,
   "metadata": {},
   "outputs": [],
   "source": []
  }
 ],
 "metadata": {
  "interpreter": {
   "hash": "82d80055b0e8d92b82171d281dea18a4d2e45a4e14b35246ed1c29d9fcb17d83"
  },
  "kernelspec": {
   "display_name": "Python 3.9.5 ('venv': venv)",
   "language": "python",
   "name": "python3"
  },
  "language_info": {
   "codemirror_mode": {
    "name": "ipython",
    "version": 3
   },
   "file_extension": ".py",
   "mimetype": "text/x-python",
   "name": "python",
   "nbconvert_exporter": "python",
   "pygments_lexer": "ipython3",
   "version": "3.9.5"
  },
  "orig_nbformat": 4
 },
 "nbformat": 4,
 "nbformat_minor": 2
}
